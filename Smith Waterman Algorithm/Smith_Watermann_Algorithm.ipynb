{
  "nbformat": 4,
  "nbformat_minor": 0,
  "metadata": {
    "colab": {
      "provenance": [],
      "authorship_tag": "ABX9TyPT8UuFGLAP9WBf0wTVmpdC",
      "include_colab_link": true
    },
    "kernelspec": {
      "name": "python3",
      "display_name": "Python 3"
    },
    "language_info": {
      "name": "python"
    }
  },
  "cells": [
    {
      "cell_type": "markdown",
      "metadata": {
        "id": "view-in-github",
        "colab_type": "text"
      },
      "source": [
        "<a href=\"https://colab.research.google.com/github/dystaSatria/Analysis-and-Design-Algorithm-/blob/main/Smith%20Waterman%20Algorithm/Smith_Watermann_Algorithm.ipynb\" target=\"_parent\"><img src=\"https://colab.research.google.com/assets/colab-badge.svg\" alt=\"Open In Colab\"/></a>"
      ]
    },
    {
      "cell_type": "markdown",
      "source": [
        "# Smith Watermann Algorithm\n"
      ],
      "metadata": {
        "id": "6O9dPK5EBtpG"
      }
    },
    {
      "cell_type": "code",
      "execution_count": 41,
      "metadata": {
        "id": "CGRM5ZiNZrUD"
      },
      "outputs": [],
      "source": [
        "\n",
        "import numpy\n",
        "import argparse\n",
        "import os\n",
        "import re\n",
        "import sys\n",
        "import unittest\n",
        "import time\n",
        "from pandas import *"
      ]
    },
    {
      "cell_type": "code",
      "source": [
        "#Initialization\n",
        "seqA = 'TTAGCTGATCTTAC'\n",
        "seqB = 'TTAGGCTATCGAAA'\n"
      ],
      "metadata": {
        "id": "9Ve3gWbV_pXo"
      },
      "execution_count": 42,
      "outputs": []
    },
    {
      "cell_type": "code",
      "source": [
        "match = 3\n",
        "mismatch = -1\n",
        "\n",
        "\n",
        "alphabet = 'ACGT'\n",
        "\n"
      ],
      "metadata": {
        "id": "KWL9T_lN_yPn"
      },
      "execution_count": 43,
      "outputs": []
    },
    {
      "cell_type": "code",
      "source": [
        "def main():\n",
        "\n",
        "\n",
        "    #First we display the Substitution matrix, the scoring matrix\n",
        "    print('The substitution matrix for the alphabet {0} is:'.format(alphabet))\n",
        "    Substi = create_Substi(alphabet, match, mismatch)\n",
        "    print(DataFrame(Substi))\n",
        "\n",
        "    rows = len(seqA) + 1\n",
        "    cols = len(seqB) + 1\n",
        "\n",
        "\n",
        "    score_matrix, start_pos, max_score, path_matrix = create_score_matrix(rows, cols)\n",
        "\n",
        "    print('Scoring Matrix : \\n')\n",
        "    print_matrix(score_matrix)\n",
        "    print('Highest score = ', max_score)\n",
        "    print('start_pos=',start_pos)\n",
        "    print('The path to 0 is:')\n",
        "    time.sleep(0.5)\n",
        "\n",
        "    # Traceback : it also displays the path\n",
        "    seqA_aligned, seqB_aligned = traceback(path_matrix, start_pos, score_matrix)\n",
        "    assert len(seqA_aligned) == len(seqB_aligned), 'aligned strings are not the same size'\n",
        "\n",
        "\n",
        "\n",
        "\n",
        "    # Printing the alignements and a few figures\n",
        "    Graphical_display(seqA_aligned, seqB_aligned)\n",
        "    print('Score of the alignment = ')\n",
        "    print(max_score)\n",
        "    return(0)\n",
        "\n"
      ],
      "metadata": {
        "id": "34n-0W4I_-VW"
      },
      "execution_count": 44,
      "outputs": []
    },
    {
      "cell_type": "code",
      "source": [
        "def traceback(path_matrix, start_pos, score_matrix):\n",
        "    '''The function does the traceback based on the starting position\n",
        "    and on the instructions contained in the path_matrix,\n",
        "    it also displays the move done at each step '''\n",
        "\n",
        "    x,y = start_pos\n",
        "    aligned_seqA = []\n",
        "    aligned_seqB = []\n",
        "\n",
        "\n",
        "    while path_matrix[x][y] != [0, 'NULL'] :\n",
        "        d, direction = path_matrix[x][y][0], path_matrix[x][y][1]\n",
        "        if direction == 'DIAG' :\n",
        "            assert d ==1, 'path_matrix wrongly constructed !'\n",
        "            aligned_seqA.append(seqA[x - 1])\n",
        "            aligned_seqB.append(seqB[y - 1])\n",
        "            x -= 1\n",
        "            y -= 1\n",
        "            print('DIAG',score_matrix[x][y])\n",
        "        elif direction == 'UP' :\n",
        "            for c in range(d):\n",
        "                aligned_seqA.append(seqA[x - 1])\n",
        "                aligned_seqB.append('-')\n",
        "                x -= 1\n",
        "                print('UP',score_matrix[x][y])\n",
        "        elif direction == 'LEFT' :\n",
        "            for c in range(d):\n",
        "                aligned_seqA.append('-')\n",
        "                aligned_seqB.append(seqB[y - 1])\n",
        "                y -= 1\n",
        "                print('LEFT',score_matrix[x][y])\n",
        "    print('Traceback reached a 0 at :',(x,y))\n",
        "\n",
        "    return ''.join(reversed(aligned_seqA)), ''.join(reversed(aligned_seqB))\n"
      ],
      "metadata": {
        "id": "Fl7PM9PkADIl"
      },
      "execution_count": 45,
      "outputs": []
    },
    {
      "cell_type": "code",
      "source": [
        "def create_score_matrix(rows, cols):\n",
        "    '''The function creates the score_matrix and the path_matrix'''\n",
        "    score_matrix = [[0 for col in range(cols)] for row in range(rows)]\n",
        "    path_matrix = [[[0 , 'NULL'] for col in range(cols)] for row in range(rows)]\n",
        "\n",
        "    max_score = 0\n",
        "    max_pos   = None\n",
        "    for i in range(1, rows):\n",
        "        for j in range(1, cols):\n",
        "            score, antecedent = calc_score(score_matrix, i, j)\n",
        "            if score > max_score:\n",
        "                max_score = score\n",
        "                max_pos   = (i, j)\n",
        "\n",
        "            score_matrix[i][j],path_matrix[i][j] = score, antecedent\n",
        "\n",
        "    assert max_pos is not None, 'No maximum found'\n",
        "\n",
        "    return score_matrix, max_pos, max_score, path_matrix"
      ],
      "metadata": {
        "id": "dPyhOXRnAHz0"
      },
      "execution_count": 46,
      "outputs": []
    },
    {
      "cell_type": "code",
      "source": [
        "def calc_score(score_matrix, x, y):\n",
        "    '''this function is used during the score_matrix construction,\n",
        "    it is suitable for affine gap penalties and works with a substitution matrix'''\n",
        "    similarity = Substitution_score(Substi, x, y)\n",
        "\n",
        "\n",
        "    same_row = [(score_matrix[x][y-l]-gap_penalty(l)) for l in range(1,x+1)]\n",
        "    same_col = [(score_matrix[x-k][y]-gap_penalty(k)) for k in range(1,x+1)]\n",
        "\n",
        "    up_score = max(same_col)\n",
        "    left_score = max(same_row)\n",
        "\n",
        "\n",
        "    diag_score = score_matrix[x - 1][y - 1] + similarity\n",
        "    pos_max_up = first_pos_max(same_col)\n",
        "    pos_max_left = first_pos_max(same_row)\n",
        "\n",
        "\n",
        "    score =  max(0, diag_score, up_score, left_score)\n",
        "\n",
        "    if score == diag_score :\n",
        "        antecedent = [1, 'DIAG']\n",
        "        return score, antecedent\n",
        "    elif score == up_score :\n",
        "        antecedent = [pos_max_up + 1, 'UP']\n",
        "        return score, antecedent\n",
        "    elif score == left_score :\n",
        "        antecedent = [pos_max_left + 1, 'LEFT']\n",
        "        return score, antecedent\n",
        "    else :\n",
        "        return score, [0, 'NULL']\n"
      ],
      "metadata": {
        "id": "ciVojkz4APTS"
      },
      "execution_count": 47,
      "outputs": []
    },
    {
      "cell_type": "code",
      "source": [
        "def alignment_string(aligned_seqA, aligned_seqB):\n",
        "\n",
        "    idents, gaps, mismatches = 0, 0, 0\n",
        "    alignment_string = []\n",
        "    for base1, base2 in zip(aligned_seqA, aligned_seqB): #loop that runs over both sequences simultaneously\n",
        "        if base1 == base2:\n",
        "            alignment_string.append('|')\n",
        "            idents += 1\n",
        "        elif '-' in (base1, base2):\n",
        "            alignment_string.append(' ')\n",
        "            gaps += 1\n",
        "        else:\n",
        "            alignment_string.append(':')\n",
        "            mismatches += 1\n",
        "\n",
        "    return ''.join(alignment_string), idents, gaps, mismatches\n",
        "\n",
        "\n",
        "def create_Substi(alphabet, match, mismatch):\n",
        "    '''Creates a substitution matrix, given the alphabet and the match/mismatch scores'''\n",
        "    global Substi\n",
        "    Substi = [['NULL' for col in range(len(alphabet))] for row in range(len(alphabet))]\n",
        "\n",
        "    for i in range(len(alphabet)):\n",
        "        for j in range(len(alphabet)):\n",
        "            if alphabet[i] == alphabet[j] :\n",
        "                Substi[i][j] = match\n",
        "            elif alphabet[i] != alphabet[j]:\n",
        "                Substi[i][j] = mismatch\n",
        "\n",
        "\n",
        "    return Substi"
      ],
      "metadata": {
        "id": "CwaBeQx1AUVa"
      },
      "execution_count": 48,
      "outputs": []
    },
    {
      "cell_type": "code",
      "source": [
        "def Substitution_score(Substi, x, y):\n",
        "    '''we seek the score between seqA[x-1] and seqB[y-1]'''\n",
        "    a_i = alphabet.index(seqA[x-1])\n",
        "    b_j = alphabet.index(seqB[y-1])\n",
        "\n",
        "    return Substi[a_i][b_j]\n"
      ],
      "metadata": {
        "id": "ErZZfZO4AUam"
      },
      "execution_count": 49,
      "outputs": []
    },
    {
      "cell_type": "code",
      "source": [
        "def Graphical_display(seqA_aligned, seqB_aligned):\n",
        "    alignment_str, idents, gaps, mismatches = alignment_string(seqA_aligned, seqB_aligned)\n",
        "    alength = len(seqA_aligned)\n",
        "    time.sleep(0.2)\n",
        "    print()\n",
        "    print(' Identities = {0}/{1} ({2:.1%}), Gaps = {3}/{4} ({5:.1%}), Mismatches = {6}/{7} ({8:.1%})'.format(idents,\n",
        "          alength, idents / alength, gaps, alength, gaps / alength, mismatches, alength, mismatches/alength))\n",
        "    print()\n",
        "    for i in range(0, alength, 60):\n",
        "        seqA_slice = seqA_aligned[i:i+60]\n",
        "        print('Query  {0:<4}  {1}  {2:<4}'.format(i + 1, seqA_slice, i + len(seqA_slice)))\n",
        "        print('             {0}'.format(alignment_str[i:i+60]))\n",
        "        seqB_slice = seqB_aligned[i:i+60]\n",
        "        print('Sbjct  {0:<4}  {1}  {2:<4}'.format(i + 1, seqB_slice, i + len(seqB_slice)))\n",
        "        print()\n",
        "\n"
      ],
      "metadata": {
        "id": "W3h-2eR2AX7X"
      },
      "execution_count": 50,
      "outputs": []
    },
    {
      "cell_type": "code",
      "source": [
        "def print_matrix(matrix): # graphical display of matrix\n",
        "    print('\\n'.join([''.join(['     {:4}'.format(item) for item in row])for row in matrix]))\n",
        "\n",
        "\n",
        "def first_pos_max(list):\n",
        "    maxi = max(list)\n",
        "    return [i for i, j in enumerate(list) if j == maxi][0]\n",
        "\n",
        "def gap_penalty(k) :\n",
        "    return 3*k\n",
        "\n",
        "\n",
        "\n",
        "if __name__ == '__main__':\n",
        "    main()"
      ],
      "metadata": {
        "colab": {
          "base_uri": "https://localhost:8080/"
        },
        "id": "Juo4pN9PAc-z",
        "outputId": "304444cd-72b9-47fd-cab7-c3fa0d0e2d50"
      },
      "execution_count": 51,
      "outputs": [
        {
          "output_type": "stream",
          "name": "stdout",
          "text": [
            "The substitution matrix for the alphabet ACGT is:\n",
            "   0  1  2  3\n",
            "0  3 -1 -1 -1\n",
            "1 -1  3 -1 -1\n",
            "2 -1 -1  3 -1\n",
            "3 -1 -1 -1  3\n",
            "Scoring Matrix : \n",
            "\n",
            "        0        0        0        0        0        0        0        0        0        0        0        0        0        0        0\n",
            "        0        3        3        0        0        0        0        3        0        3        0        0        0        0        0\n",
            "        0        3        6        3        0        0        0        3        2        3        2        0        0        0        0\n",
            "        0        0        3        9        6        3        0        0        6        3        2        1        3        3        3\n",
            "        0        0        0        6       12        9        6        3        3        5        2        5        2        2        2\n",
            "        0        0        0        3        9       11       12        9        6        3        8        5        4        1        1\n",
            "        0        3        3        0        6        8       10       15       12        9        6        7        4        3        0\n",
            "        0        0        2        2        3        9        7       12       14       11        8        9        6        3        2\n",
            "        0        0        0        5        2        6        8        9       15       13       10        7       12        9        6\n",
            "        0        3        3        2        4        3        5       11       12       18       15       12        9       11        8\n",
            "        0        0        2        2        1        3        6        8       10       15       21       18       15       12       10\n",
            "        0        3        3        1        1        0        3        9        7       13       18       20       17       14       11\n",
            "        0        3        6        3        0        0        0        6        8       10       15       17       19       16       13\n",
            "        0        0        3        9        6        3        0        3        9        7       12       14       20       22       19\n",
            "        0        0        0        6        8        5        6        3        6        8       10       11       17       19       21\n",
            "Highest score =  22\n",
            "start_pos= (13, 13)\n",
            "The path to 0 is:\n",
            "DIAG 19\n",
            "DIAG 20\n",
            "DIAG 21\n",
            "DIAG 18\n",
            "DIAG 15\n",
            "DIAG 12\n",
            "UP 15\n",
            "DIAG 12\n",
            "DIAG 9\n",
            "DIAG 6\n",
            "LEFT 9\n",
            "DIAG 6\n",
            "DIAG 3\n",
            "DIAG 0\n",
            "Traceback reached a 0 at : (0, 0)\n",
            "\n",
            " Identities = 10/14 (71.4%), Gaps = 2/14 (14.3%), Mismatches = 2/14 (14.3%)\n",
            "\n",
            "Query  1     TTA-GCTGATCTTA  14  \n",
            "             ||| ||| |||::|\n",
            "Sbjct  1     TTAGGCT-ATCGAA  14  \n",
            "\n",
            "Score of the alignment = \n",
            "22\n"
          ]
        }
      ]
    }
  ]
}